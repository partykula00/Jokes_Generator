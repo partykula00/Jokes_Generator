{
  "nbformat": 4,
  "nbformat_minor": 0,
  "metadata": {
    "colab": {
      "provenance": []
    },
    "kernelspec": {
      "name": "python3",
      "display_name": "Python 3"
    },
    "language_info": {
      "name": "python"
    }
  },
  "cells": [
    {
      "cell_type": "code",
      "execution_count": null,
      "metadata": {
        "id": "GbscjkLgQ39g"
      },
      "outputs": [],
      "source": [
        "import csv\n",
        "import torch\n",
        "import torch.nn as nn\n",
        "import pandas as pd\n",
        "import json\n",
        "from torch.nn import functional as F\n",
        "import matplotlib.pyplot as plt\n",
        "import numpy as np\n"
      ]
    },
    {
      "cell_type": "code",
      "source": [
        "from google.colab import drive\n",
        "#Google disc mount\n",
        "drive.mount('/content/drive')"
      ],
      "metadata": {
        "id": "LgMCs71MQ57d"
      },
      "execution_count": null,
      "outputs": []
    },
    {
      "cell_type": "code",
      "source": [
        "cd /content/drive/MyDrive/dadpranks-main/dadpranks-main"
      ],
      "metadata": {
        "id": "MzwY-_7cQ7gs"
      },
      "execution_count": null,
      "outputs": []
    },
    {
      "cell_type": "code",
      "source": [
        "data = pd.read_csv('shortjokes.csv')\n",
        "data['Joke'] = data['Joke'].astype(str)\n",
        "big_string = ' '.join(data['Joke'])\n",
        "characters = sorted(list(set(big_string)))\n",
        "stoi = {ch:i for i,ch in enumerate(characters)}\n",
        "itos = {i:ch for i,ch in enumerate(characters)}\n",
        "\n",
        "stoi['<E>'] = 97\n",
        "itos[97] = '<E>'\n",
        "print(len(stoi))\n",
        "\n",
        "\n",
        "encode = lambda s: [stoi[c] for c in s]\n",
        "decode = lambda l: [itos[i] for i in l]\n",
        "\n",
        "vocab_size = len(characters) + 1\n",
        "print(vocab_size)\n"
      ],
      "metadata": {
        "id": "HtbSJex2Q90x"
      },
      "execution_count": null,
      "outputs": []
    },
    {
      "cell_type": "code",
      "source": [
        "# Visualize counts of each character - helpful for data cleaning\n",
        "characters_count = {}\n",
        "\n",
        "for char in big_string:\n",
        "  if char in characters_count:\n",
        "    characters_count[char] += 1\n",
        "  else:\n",
        "    characters_count[char] = 1\n",
        "\n",
        "# Sort the character count dictionary by count from least to greatest\n",
        "sorted_characters_count = dict(sorted(characters_count.items(), key=lambda item: item[1]))\n",
        "\n",
        "# Print the sorted character count dictionary\n",
        "for char, count in sorted_characters_count.items():\n",
        "    print(f\"Character: '{char}', Count: {count}\")"
      ],
      "metadata": {
        "id": "mXCB_MTnR4OZ"
      },
      "execution_count": null,
      "outputs": []
    },
    {
      "cell_type": "code",
      "source": [
        "#Data cleaning\n",
        "drop_indexes = []\n",
        "for index,row in data.iterrows():\n",
        "  if '\\x08' in row['Joke'] or '\\x10' in row['Joke']:\n",
        "    print(index)\n",
        "    drop_indexes.append(index)\n",
        "\n",
        "for indexx in drop_indexes:\n",
        "  data = data.drop(indexx)"
      ],
      "metadata": {
        "id": "9nXsipdAR78n"
      },
      "execution_count": null,
      "outputs": []
    },
    {
      "cell_type": "code",
      "source": [
        "list_of_jokes_encoded = []\n",
        "\n",
        "for index,row in data.iterrows():\n",
        "  list_of_jokes_encoded.extend(encode(row['Joke']))\n",
        "  list_of_jokes_encoded.append(97)\n",
        "\n",
        "\n",
        "data_tensor = torch.tensor(list_of_jokes_encoded, dtype=torch.long)\n",
        "n = int(0.9*len(data))\n",
        "train_data = data_tensor[:n]\n",
        "val_data = data_tensor[n:]"
      ],
      "metadata": {
        "id": "y63Gtdp0SAqq"
      },
      "execution_count": null,
      "outputs": []
    },
    {
      "cell_type": "code",
      "source": [
        "# hyperparameters\n",
        "batch_size = 32 # how many independent sequences will we process in parallel?\n",
        "block_size = 256# what is the maximum context length for predictions?\n",
        "max_iters = 3500\n",
        "\n",
        "\n",
        "eval_interval = 500\n",
        "learning_rate = 3e-4\n",
        "#device = 'cuda' if torch.cuda.is_available() else 'cpu'\n",
        "device = 'cuda'\n",
        "eval_iters = 200\n",
        "n_embd = 320\n",
        "n_head = 6\n",
        "n_layer = 6\n",
        "dropout = 0.3\n",
        "hyperparameters = {'batch_size': batch_size,\n",
        "                   'block_size': block_size,\n",
        "                   'max_iters': max_iters,\n",
        "                   'eval_interval': eval_interval,\n",
        "                   'learning_rate': learning_rate,\n",
        "                   'device': device,\n",
        "                   'eval_iters': eval_iters,\n",
        "                   'n_embd': n_embd,\n",
        "                   'n_head': n_head,\n",
        "                   'n_layer': n_layer,\n",
        "                   'dropout': dropout,}\n",
        "print(hyperparameters)\n",
        "# ------------"
      ],
      "metadata": {
        "id": "GIQVFhEbSGpH"
      },
      "execution_count": null,
      "outputs": []
    },
    {
      "cell_type": "code",
      "source": [
        "def get_batch(split):\n",
        "  # Pobieranie małej partii danych z input x i target y\n",
        "  data = train_data if split == 'train' else val_data\n",
        "  # ix tworzy indeksy w train_data o długości batch_size i nie krótsze niż len(train_data - block_size), żeby nie \"wyjść\" poza dane tekstowe. block_size - to maksymalna długość kontekstu\n",
        "  ix = torch.randint(len(data)-block_size, (batch_size,))\n",
        "  x = torch.stack([data[i:i+block_size] for i in ix])\n",
        "  y = torch.stack([data[i+1:i+block_size+1] for i in ix])\n",
        "  x, y = x.to(device), y.to(device)\n",
        "  return x,y"
      ],
      "metadata": {
        "id": "-41flwmcSIoL"
      },
      "execution_count": null,
      "outputs": []
    },
    {
      "cell_type": "code",
      "source": [
        "#Model Transofmers:\n",
        "@torch.no_grad()\n",
        "def estimate_loss():\n",
        "  out = {}\n",
        "  model.eval()\n",
        "  for split in ['train', 'val']:\n",
        "    losses = torch.zeros(eval_iters)\n",
        "    for k in range(eval_iters):\n",
        "      X, Y = get_batch(split)\n",
        "      #print(X.shape)\n",
        "      logits, loss = model(X, Y)\n",
        "      losses[k] = loss.item()\n",
        "    out[split] = losses.mean()\n",
        "  model.train()\n",
        "  return out\n",
        "\n",
        "\n",
        "class Head(nn.Module):\n",
        "\n",
        "  def __init__(self, head_size):\n",
        "    super().__init__()\n",
        "    self.key = nn.Linear(n_embd, head_size, bias=False)\n",
        "    self.query = nn.Linear(n_embd, head_size, bias=False)\n",
        "    self.value = nn.Linear(n_embd, head_size, bias=False)\n",
        "    self.register_buffer('tril', torch.tril(torch.ones(block_size, block_size)))\n",
        "\n",
        "    self.dropout = nn.Dropout(dropout)\n",
        "\n",
        "  def forward(self, x):\n",
        "    # tensor o postaci (batch, time-step, channels)\n",
        "    # output o postaci (batch, time-step, head size)\n",
        "\n",
        "    B,T,C = x.shape\n",
        "    k = self.key(x)\n",
        "    q = self.query(x)\n",
        "    # Attention scores:\n",
        "    wei = q @ k.transpose(-2,-1) * k.shape[-1]**-0.5 # (B,T,hs) @ (B,hs,T) -> (B,T,T)\n",
        "    wei = wei.masked_fill(self.tril[:T, :T] == 0, float('-inf'))\n",
        "    wei = F.softmax(wei, dim=-1)\n",
        "    wei = self.dropout(wei)\n",
        "    # perform the weighted aggregation of the values\n",
        "    v = self.value(x)\n",
        "    out = wei @ v\n",
        "    return out\n",
        "\n",
        "class MultiHeadAttention(nn.Module):\n",
        "  def __init__(self, num_heads, head_size):\n",
        "    super().__init__()\n",
        "    self.heads = nn.ModuleList([Head(head_size) for _ in range(num_heads)])\n",
        "    self.proj = nn.Linear(head_size * num_heads, n_embd)\n",
        "    self.dropout = nn.Dropout(dropout)\n",
        "\n",
        "  def forward(self, x):\n",
        "    out = torch.cat([h(x) for h in self.heads], dim=-1)\n",
        "    out = self.dropout(self.proj(out))\n",
        "    return out\n",
        "\n",
        "class FeedForward(nn.Module):\n",
        "  def __init__(self, n_embd):\n",
        "    super().__init__()\n",
        "    self.net = nn.Sequential(\n",
        "        nn.Linear(n_embd, 4*n_embd),\n",
        "        nn.ReLU(),\n",
        "        nn.Linear(4 * n_embd, n_embd),\n",
        "        nn.Dropout(dropout)\n",
        "    )\n",
        "  def forward(self, x):\n",
        "    return self.net(x)\n",
        "\n",
        "class Block(nn.Module):\n",
        "\n",
        "  def __init__(self, n_embd, n_head):\n",
        "    super().__init__()\n",
        "    head_size = n_embd // n_head\n",
        "    self.sa = MultiHeadAttention(n_head, head_size)\n",
        "    self.ffwd = FeedForward(n_embd)\n",
        "    self.ln1 = nn.LayerNorm(n_embd)\n",
        "    self.ln2 = nn.LayerNorm(n_embd)\n",
        "\n",
        "  def forward(self, x):\n",
        "    x = x + self.sa(self.ln1(x))\n",
        "    x = x + self.ffwd(self.ln2(x))\n",
        "    return x\n",
        "\n",
        "class LanguageModel(nn.Module):\n",
        "\n",
        "  def __init__(self):\n",
        "    super().__init__()\n",
        "    self.token_embedding_table = nn.Embedding(vocab_size, n_embd)\n",
        "    #print(self.token_embedding_table)\n",
        "    self.position_embedding_table = nn.Embedding(block_size, n_embd)\n",
        "    self.blocks = nn.Sequential(*[Block(n_embd, n_head=n_head) for _ in range(n_layer)])\n",
        "    self.ln_f = nn.LayerNorm(n_embd) # final layer norm\n",
        "    self.lm_head = nn.Linear(n_embd, vocab_size)\n",
        "\n",
        "    self.apply(self._init_weights)\n",
        "\n",
        "  def _init_weights(self, module):\n",
        "      if isinstance(module, nn.Linear):\n",
        "          torch.nn.init.normal_(module.weight, mean=0.0, std=0.02)\n",
        "          if module.bias is not None:\n",
        "              torch.nn.init.zeros_(module.bias)\n",
        "      elif isinstance(module, nn.Embedding):\n",
        "          torch.nn.init.normal_(module.weight, mean=0.0, std=0.02)\n",
        "  def forward(self, idx, targets=None):\n",
        "    B, T = idx.shape\n",
        "\n",
        "    #print(idx)\n",
        "    #idx_np = idx.numpy()\n",
        "    #print(np.min(idx_np))\n",
        "    #print(np.max(idx_np))\n",
        "\n",
        "    tok_emb = self.token_embedding_table(idx)\n",
        "    pos_emb = self.position_embedding_table(torch.arange(T, device=device))\n",
        "    x = tok_emb + pos_emb\n",
        "\n",
        "    x = self.blocks(x)\n",
        "    x = self.ln_f(x)\n",
        "    logits = self.lm_head(x)\n",
        "\n",
        "    if targets is None:\n",
        "      loss = None\n",
        "    else:\n",
        "      B, T, C = logits.shape\n",
        "      logits = logits.view(B*T, C)\n",
        "      targets = targets.view(B*T)\n",
        "      loss = F.cross_entropy(logits, targets)\n",
        "\n",
        "    return logits, loss\n",
        "  def generate(self, idx, max_new_tokens):\n",
        "    # idx is (B, T) array of indices in the current context\n",
        "    for _ in range(max_new_tokens):\n",
        "        # crop idx to the last block_size tokens\n",
        "        idx_cond = idx[:, -block_size:]\n",
        "        # get the predictions\n",
        "        logits, loss = self(idx_cond)\n",
        "        # focus only on the last time step\n",
        "        logits = logits[:, -1, :] # becomes (B, C)\n",
        "        # apply softmax to get probabilities\n",
        "        probs = F.softmax(logits, dim=-1) # (B, C)\n",
        "        # sample from the distribution\n",
        "        idx_next = torch.multinomial(probs, num_samples=1) # (B, 1)\n",
        "        # append sampled index to the running sequence\n",
        "        idx = torch.cat((idx, idx_next), dim=1) # (B, T+1)\n",
        "    return idx"
      ],
      "metadata": {
        "id": "NtqQw8lNSMN2"
      },
      "execution_count": null,
      "outputs": []
    },
    {
      "cell_type": "code",
      "source": [
        "model = LanguageModel()\n",
        "m = model.to(device)\n",
        "\n",
        "# print the number of parameters in the model\n",
        "print(sum(p.numel() for p in m.parameters())/1e6, 'M parameters')\n",
        "\n",
        "# create a PyTorch optimizer\n",
        "optimizer = torch.optim.AdamW(model.parameters(), lr=learning_rate)"
      ],
      "metadata": {
        "id": "k_3pjPdJSPFF"
      },
      "execution_count": null,
      "outputs": []
    },
    {
      "cell_type": "code",
      "source": [
        "#TRAINING LOOP\n",
        "for iter in range(max_iters):\n",
        "\n",
        "    # every once in a while evaluate the loss on train and val sets\n",
        "    if iter % eval_interval == 0 or iter == max_iters - 1:\n",
        "        losses = estimate_loss()\n",
        "        print(f\"step {iter}: train loss {losses['train']:.4f}, val loss {losses['val']:.4f}\")\n",
        "\n",
        "    # sample a batch of data\n",
        "    xb, yb = get_batch('train')\n",
        "\n",
        "    #print(xb.shape)\n",
        "    # evaluate the loss\n",
        "    logits, loss = model(xb, yb)\n",
        "    optimizer.zero_grad(set_to_none=True)\n",
        "    loss.backward()\n",
        "    optimizer.step()\n"
      ],
      "metadata": {
        "id": "0cmBPFyaSREu"
      },
      "execution_count": null,
      "outputs": []
    },
    {
      "cell_type": "code",
      "source": [
        "context = torch.zeros((1, 1), dtype=torch.long, device=device)\n",
        "generated = decode(m.generate(context, max_new_tokens=1500)[0].tolist())\n",
        "#print(generated)\n",
        "text = ''\n",
        "for letter in generated:\n",
        "  if letter == \"<E>\":\n",
        "    print(text)\n",
        "    text=''\n",
        "  text += letter\n",
        "\n",
        "print(text)"
      ],
      "metadata": {
        "id": "ApERjNHtSTri"
      },
      "execution_count": null,
      "outputs": []
    }
  ]
}